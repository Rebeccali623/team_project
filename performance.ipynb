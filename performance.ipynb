{
 "cells": [
  {
   "cell_type": "code",
   "execution_count": 1,
   "metadata": {},
   "outputs": [],
   "source": [
    "import psycopg2, re, time\n",
    "import transformation as tns"
   ]
  },
  {
   "cell_type": "code",
   "execution_count": 8,
   "metadata": {},
   "outputs": [],
   "source": [
    "def connect(create_file, query_file = 'query1.sql', to_transform = False):\n",
    "    conn = None\n",
    "    print('Connecting to the PostgreSQL database...')\n",
    "    conn = psycopg2.connect(\n",
    "        host=\"localhost\",\n",
    "        database=\"cs5421_project\",\n",
    "        user=\"postgres\",\n",
    "        password=\"common2021\")# Change the database name & credentials accordingly!\n",
    "\n",
    "    # create a cursor\n",
    "    cur = conn.cursor()\n",
    "\n",
    "    # execute a statement\n",
    "#     print('PostgreSQL database version:')\n",
    "#     cur.execute('SELECT version()')\n",
    "\n",
    "#     # display the PostgreSQL database server version\n",
    "#     db_version = cur.fetchone()\n",
    "#     print(db_version)\n",
    "\n",
    "\n",
    "    start = time.time()\n",
    "#     tns.executeScriptsFromFile(create_file, cur)\n",
    "#     tns.executeScriptsFromFile(\"query1.sql\", cur)\n",
    "    try:\n",
    "        tns.executeScriptsFromFile(create_file, cur)\n",
    "        print(f'{create_file} excuted')\n",
    "        tns.executeScriptsFromFile(query_file, cur)\n",
    "        print('=========')\n",
    "        end = time.time()\n",
    "        delta = end - start\n",
    "        print('delta:', delta)\n",
    "        print('=========')\n",
    "    except (Exception, psycopg2.DatabaseError) as error:\n",
    "        print('=========')\n",
    "        end = time.time()\n",
    "        delta = end - start\n",
    "        print('delta:', delta)\n",
    "        print('=========')\n",
    "        print(error)\n",
    "    finally:\n",
    "        if conn is not None:\n",
    "            conn.close()\n",
    "            print('Database connection closed.')\n"
   ]
  },
  {
   "cell_type": "code",
   "execution_count": 3,
   "metadata": {},
   "outputs": [
    {
     "name": "stdout",
     "output_type": "stream",
     "text": [
      "Connecting to the PostgreSQL database...\n",
      "create_table.sql excuted\n",
      "=========\n",
      "delta: 0.007109165191650391\n",
      "=========\n",
      "new row for relation \"employees\" violates check constraint \"employees_birth_date_check\"\n",
      "DETAIL:  Failing row contains (1, John, Doe, 1872-01-01, 2015-07-01, 3000).\n",
      "\n",
      "Database connection closed.\n"
     ]
    }
   ],
   "source": [
    "connect(\"create_table.sql\")"
   ]
  },
  {
   "cell_type": "code",
   "execution_count": 4,
   "metadata": {},
   "outputs": [
    {
     "name": "stdout",
     "output_type": "stream",
     "text": [
      "Connecting to the PostgreSQL database...\n",
      "create_table_transformed.sql excuted\n",
      "=========\n",
      "delta: 0.015984773635864258\n",
      "=========\n",
      "Invalid birth_date in employees\n",
      "CONTEXT:  PL/pgSQL function verify_employees_birth_date() line 6 at RAISE\n",
      "\n",
      "Database connection closed.\n"
     ]
    }
   ],
   "source": [
    "connect(\"create_table_transformed.sql\")"
   ]
  },
  {
   "cell_type": "code",
   "execution_count": 13,
   "metadata": {},
   "outputs": [
    {
     "name": "stdout",
     "output_type": "stream",
     "text": [
      "Connecting to the PostgreSQL database...\n",
      "create_table.sql excuted\n",
      "=========\n",
      "delta: 0.013499259948730469\n",
      "=========\n",
      "Database connection closed.\n"
     ]
    }
   ],
   "source": [
    "# 100 rows\n",
    "connect(\"create_table.sql\", query_file = 'query2.sql')"
   ]
  },
  {
   "cell_type": "code",
   "execution_count": 14,
   "metadata": {},
   "outputs": [
    {
     "name": "stdout",
     "output_type": "stream",
     "text": [
      "Connecting to the PostgreSQL database...\n",
      "create_table_transformed.sql excuted\n",
      "=========\n",
      "delta: 0.017786264419555664\n",
      "=========\n",
      "Database connection closed.\n"
     ]
    }
   ],
   "source": [
    "# 100 rows\n",
    "connect(\"create_table_transformed.sql\", query_file = 'query2.sql')"
   ]
  },
  {
   "cell_type": "code",
   "execution_count": 15,
   "metadata": {},
   "outputs": [
    {
     "name": "stdout",
     "output_type": "stream",
     "text": [
      "Connecting to the PostgreSQL database...\n",
      "create_table.sql excuted\n",
      "=========\n",
      "delta: 0.05806112289428711\n",
      "=========\n",
      "Database connection closed.\n"
     ]
    }
   ],
   "source": [
    "# 1000 rows\n",
    "connect(\"create_table.sql\", query_file = 'query3.sql')"
   ]
  },
  {
   "cell_type": "code",
   "execution_count": 16,
   "metadata": {},
   "outputs": [
    {
     "name": "stdout",
     "output_type": "stream",
     "text": [
      "Connecting to the PostgreSQL database...\n",
      "create_table_transformed.sql excuted\n",
      "=========\n",
      "delta: 0.06168508529663086\n",
      "=========\n",
      "Database connection closed.\n"
     ]
    }
   ],
   "source": [
    "# 1000 rows\n",
    "connect(\"create_table_transformed.sql\", query_file = 'query3.sql')"
   ]
  },
  {
   "cell_type": "code",
   "execution_count": 18,
   "metadata": {},
   "outputs": [
    {
     "name": "stdout",
     "output_type": "stream",
     "text": [
      "Connecting to the PostgreSQL database...\n",
      "create_table.sql excuted\n",
      "=========\n",
      "delta: 0.4487721920013428\n",
      "=========\n",
      "Database connection closed.\n"
     ]
    }
   ],
   "source": [
    "# 10000 rows\n",
    "connect(\"create_table.sql\", query_file = 'query4.sql')"
   ]
  },
  {
   "cell_type": "code",
   "execution_count": 19,
   "metadata": {},
   "outputs": [
    {
     "name": "stdout",
     "output_type": "stream",
     "text": [
      "Connecting to the PostgreSQL database...\n",
      "create_table_transformed.sql excuted\n",
      "=========\n",
      "delta: 0.4323232173919678\n",
      "=========\n",
      "Database connection closed.\n"
     ]
    }
   ],
   "source": [
    "# 10000 rows\n",
    "connect(\"create_table_transformed.sql\", query_file = 'query4.sql')"
   ]
  },
  {
   "cell_type": "code",
   "execution_count": 21,
   "metadata": {},
   "outputs": [
    {
     "name": "stdout",
     "output_type": "stream",
     "text": [
      "Connecting to the PostgreSQL database...\n",
      "create_table.sql excuted\n",
      "=========\n",
      "delta: 4.0496721267700195\n",
      "=========\n",
      "Database connection closed.\n"
     ]
    }
   ],
   "source": [
    "# 100000 rows\n",
    "connect(\"create_table.sql\", query_file = 'query5.sql')"
   ]
  },
  {
   "cell_type": "code",
   "execution_count": 22,
   "metadata": {},
   "outputs": [
    {
     "name": "stdout",
     "output_type": "stream",
     "text": [
      "Connecting to the PostgreSQL database...\n",
      "create_table_transformed.sql excuted\n",
      "=========\n",
      "delta: 3.798393726348877\n",
      "=========\n",
      "Database connection closed.\n"
     ]
    }
   ],
   "source": [
    "# 100000 rows\n",
    "connect(\"create_table_transformed.sql\", query_file = 'query5.sql')"
   ]
  },
  {
   "cell_type": "code",
   "execution_count": null,
   "metadata": {},
   "outputs": [],
   "source": []
  }
 ],
 "metadata": {
  "kernelspec": {
   "display_name": "Python 3 (ipykernel)",
   "language": "python",
   "name": "python3"
  },
  "language_info": {
   "codemirror_mode": {
    "name": "ipython",
    "version": 3
   },
   "file_extension": ".py",
   "mimetype": "text/x-python",
   "name": "python",
   "nbconvert_exporter": "python",
   "pygments_lexer": "ipython3",
   "version": "3.8.1"
  },
  "pycharm": {
   "stem_cell": {
    "cell_type": "raw",
    "source": [],
    "metadata": {
     "collapsed": false
    }
   }
  }
 },
 "nbformat": 4,
 "nbformat_minor": 4
}