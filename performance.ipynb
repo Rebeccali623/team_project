{
 "cells": [
  {
   "cell_type": "code",
   "execution_count": 1,
   "metadata": {},
   "outputs": [],
   "source": [
    "import psycopg2, re, time\n",
    "import transformation as tns"
   ]
  },
  {
   "cell_type": "code",
   "execution_count": 2,
   "metadata": {},
   "outputs": [],
   "source": [
    "def connect(create_file, query_file = 'query1.sql', to_transform = False):\n",
    "    conn = None\n",
    "    print('Connecting to the PostgreSQL database...')\n",
    "    conn = psycopg2.connect(\n",
    "        host=\"localhost\",\n",
    "        database=\"cs5421_project\",\n",
    "        user=\"postgres\",\n",
    "        password=\"156110jiao@!\")# Change the database name & credentials accordingly!\n",
    "\n",
    "    cur = conn.cursor()\n",
    "\n",
    "\n",
    "    start = time.time()\n",
    "    try:\n",
    "        tns.executeScriptsFromFile(create_file, cur)\n",
    "        tns.executeScriptsFromFile(query_file, cur)\n",
    "        conn.commit()\n",
    "        print('=========')\n",
    "        end = time.time()\n",
    "        delta = end - start\n",
    "        print(f'{create_file} excuted')\n",
    "        print('delta:', delta)\n",
    "        print('=========')\n",
    "    except (Exception, psycopg2.DatabaseError) as error:\n",
    "        print('=========')\n",
    "        end = time.time()\n",
    "        delta = end - start\n",
    "        print(f'{create_file} excuted')\n",
    "        print('delta:', delta)\n",
    "        print('=========')\n",
    "        print(error)\n",
    "    finally:\n",
    "        if conn is not None:\n",
    "            conn.close()\n",
    "            print('Database connection closed.')\n",
    "        return delta"
   ]
  },
  {
   "cell_type": "code",
   "execution_count": 3,
   "metadata": {},
   "outputs": [],
   "source": [
    "# conn = psycopg2.connect(\n",
    "#         host=\"localhost\",\n",
    "#         database=\"cs5421_project\",\n",
    "#         user=\"postgres\",\n",
    "#         password=\"156110jiao@!\")\n",
    "# cur = conn.cursor()\n",
    "# # print(cur.execute(\"select exists(select relname from pg_class where relname='\" + 'employees' + \"')\"))\n",
    "# cur.execute('''SELECT * FROM employees;''')\n",
    "# print(cur.fetchmany(size=10))\n",
    "# # print(cur.fetchall())\n",
    "# # a = cur.fetchone()\n",
    "# # df = pd.read_sql_query('SELECT * FROM employees;\"',con=conn)\n",
    "# conn.close()"
   ]
  },
  {
   "cell_type": "code",
   "execution_count": 4,
   "metadata": {
    "scrolled": true
   },
   "outputs": [],
   "source": [
    "# connect(\"create_table.sql\", query_file = 'query0.sql')"
   ]
  },
  {
   "cell_type": "code",
   "execution_count": 5,
   "metadata": {},
   "outputs": [],
   "source": [
    "check_list = []\n",
    "trigger_list = []"
   ]
  },
  {
   "cell_type": "code",
   "execution_count": 6,
   "metadata": {},
   "outputs": [
    {
     "name": "stdout",
     "output_type": "stream",
     "text": [
      "Connecting to the PostgreSQL database...\n",
      "=========\n",
      "create_table.sql excuted\n",
      "delta: 0.008733034133911133\n",
      "=========\n",
      "new row for relation \"employees\" violates check constraint \"employees_birth_date_check\"\n",
      "DETAIL:  Failing row contains (1, John, Doe, 1872-01-01, 2015-07-01, 3000).\n",
      "\n",
      "Database connection closed.\n"
     ]
    },
    {
     "data": {
      "text/plain": [
       "0.008733034133911133"
      ]
     },
     "execution_count": 6,
     "metadata": {},
     "output_type": "execute_result"
    }
   ],
   "source": [
    "# query1 with CheckViolation\n",
    "connect(\"create_table.sql\")"
   ]
  },
  {
   "cell_type": "code",
   "execution_count": 7,
   "metadata": {},
   "outputs": [
    {
     "name": "stdout",
     "output_type": "stream",
     "text": [
      "Connecting to the PostgreSQL database...\n",
      "=========\n",
      "create_table_transformed.sql excuted\n",
      "delta: 0.011632919311523438\n",
      "=========\n",
      "Invalid birth_date in employees\n",
      "CONTEXT:  PL/pgSQL function verify_employees_birth_date() line 6 at RAISE\n",
      "\n",
      "Database connection closed.\n"
     ]
    },
    {
     "data": {
      "text/plain": [
       "0.011632919311523438"
      ]
     },
     "execution_count": 7,
     "metadata": {},
     "output_type": "execute_result"
    }
   ],
   "source": [
    "# query1 with CheckViolation\n",
    "connect(\"create_table_transformed.sql\")"
   ]
  },
  {
   "cell_type": "code",
   "execution_count": 8,
   "metadata": {},
   "outputs": [
    {
     "name": "stdout",
     "output_type": "stream",
     "text": [
      "Connecting to the PostgreSQL database...\n",
      "=========\n",
      "create_table.sql excuted\n",
      "delta: 0.014194250106811523\n",
      "=========\n",
      "Database connection closed.\n"
     ]
    }
   ],
   "source": [
    "# 100 rows\n",
    "check_list.append(connect(\"create_table.sql\", query_file = 'query2.sql'))"
   ]
  },
  {
   "cell_type": "code",
   "execution_count": 9,
   "metadata": {},
   "outputs": [
    {
     "name": "stdout",
     "output_type": "stream",
     "text": [
      "Connecting to the PostgreSQL database...\n",
      "=========\n",
      "create_table_transformed.sql excuted\n",
      "delta: 0.022228002548217773\n",
      "=========\n",
      "Database connection closed.\n"
     ]
    }
   ],
   "source": [
    "# 100 rows\n",
    "trigger_list.append(connect(\"create_table_transformed.sql\", query_file = 'query2.sql'))"
   ]
  },
  {
   "cell_type": "code",
   "execution_count": 10,
   "metadata": {},
   "outputs": [
    {
     "name": "stdout",
     "output_type": "stream",
     "text": [
      "Connecting to the PostgreSQL database...\n",
      "=========\n",
      "create_table.sql excuted\n",
      "delta: 0.053679704666137695\n",
      "=========\n",
      "Database connection closed.\n"
     ]
    }
   ],
   "source": [
    "# 1000 rows\n",
    "check_list.append(connect(\"create_table.sql\", query_file = 'query3.sql'))"
   ]
  },
  {
   "cell_type": "code",
   "execution_count": 11,
   "metadata": {},
   "outputs": [
    {
     "name": "stdout",
     "output_type": "stream",
     "text": [
      "Connecting to the PostgreSQL database...\n",
      "=========\n",
      "create_table_transformed.sql excuted\n",
      "delta: 0.05466580390930176\n",
      "=========\n",
      "Database connection closed.\n"
     ]
    }
   ],
   "source": [
    "# 1000 rows\n",
    "trigger_list.append(connect(\"create_table_transformed.sql\", query_file = 'query3.sql'))"
   ]
  },
  {
   "cell_type": "code",
   "execution_count": 12,
   "metadata": {},
   "outputs": [
    {
     "name": "stdout",
     "output_type": "stream",
     "text": [
      "Connecting to the PostgreSQL database...\n",
      "=========\n",
      "create_table.sql excuted\n",
      "delta: 0.4183518886566162\n",
      "=========\n",
      "Database connection closed.\n"
     ]
    }
   ],
   "source": [
    "# 10000 rows\n",
    "check_list.append(connect(\"create_table.sql\", query_file = 'query4.sql'))"
   ]
  },
  {
   "cell_type": "code",
   "execution_count": null,
   "outputs": [],
   "source": [
    "# 10000 rows\n",
    "trigger_list.append(connect(\"create_table_transformed.sql\", query_file = 'query4.sql'))"
   ],
   "metadata": {
    "collapsed": false,
    "pycharm": {
     "name": "#%%\n"
    }
   }
  },
  {
   "cell_type": "code",
   "execution_count": null,
   "outputs": [],
   "source": [
    "# 100000 rows\n",
    "check_list.append(connect(\"create_table.sql\", query_file = 'query5.sql'))"
   ],
   "metadata": {
    "collapsed": false,
    "pycharm": {
     "name": "#%%\n"
    }
   }
  },
  {
   "cell_type": "code",
   "execution_count": null,
   "outputs": [],
   "source": [
    "# 100000 rows\n",
    "trigger_list.append(connect(\"create_table_transformed.sql\", query_file = 'query5.sql'))"
   ],
   "metadata": {
    "collapsed": false,
    "pycharm": {
     "name": "#%%\n"
    }
   }
  },
  {
   "cell_type": "code",
   "execution_count": null,
   "outputs": [],
   "source": [
    "import matplotlib.pyplot as plt\n",
    "row_nums = [0,1,2,3]\n",
    "\n",
    "\n",
    "plt.plot(row_nums, [c*1000 for c in check_list], label = \"check\")\n",
    "plt.plot(row_nums, [t*1000 for t in trigger_list], label = \"trigger\")\n",
    "plt.xticks(row_nums, ['100', '1000', '10000', '100000'])\n",
    "plt.xlabel('number of rows')\n",
    "plt.ylabel('delta t (ms)')\n",
    "plt.legend()\n",
    "plt.show()"
   ],
   "metadata": {
    "collapsed": false,
    "pycharm": {
     "name": "#%%\n"
    }
   }
  },
  {
   "cell_type": "code",
   "execution_count": 13,
   "metadata": {},
   "outputs": [
    {
     "name": "stdout",
     "output_type": "stream",
     "text": [
      "Connecting to the PostgreSQL database...\n",
      "=========\n",
      "create_table_transformed.sql excuted\n",
      "delta: 0.3866758346557617\n",
      "=========\n",
      "Database connection closed.\n"
     ]
    }
   ],
   "source": []
  },
  {
   "cell_type": "code",
   "execution_count": 14,
   "metadata": {},
   "outputs": [
    {
     "name": "stdout",
     "output_type": "stream",
     "text": [
      "Connecting to the PostgreSQL database...\n",
      "=========\n",
      "create_table.sql excuted\n",
      "delta: 4.040996074676514\n",
      "=========\n",
      "Database connection closed.\n"
     ]
    }
   ],
   "source": [
    "# 100000 rows\n",
    "check_list.append(connect(\"create_table.sql\", query_file = 'query5.sql'))"
   ]
  },
  {
   "cell_type": "code",
   "execution_count": 15,
   "metadata": {},
   "outputs": [
    {
     "name": "stdout",
     "output_type": "stream",
     "text": [
      "Connecting to the PostgreSQL database...\n",
      "=========\n",
      "create_table_transformed.sql excuted\n",
      "delta: 3.908684015274048\n",
      "=========\n",
      "Database connection closed.\n"
     ]
    }
   ],
   "source": [
    "# 100000 rows\n",
    "trigger_list.append(connect(\"create_table_transformed.sql\", query_file = 'query5.sql'))"
   ]
  },
  {
   "cell_type": "code",
   "execution_count": 25,
   "metadata": {
    "scrolled": false
   },
   "outputs": [
    {
     "data": {
      "image/png": "[encoded data removed]",
      "text/plain": [
       "<Figure size 640x480 with 1 Axes>"
      ]
     },
     "metadata": {},
     "output_type": "display_data"
    }
   ],
   "source": [
    "import matplotlib.pyplot as plt\n",
    "row_nums = [0,1,2,3]\n",
    "\n",
    "\n",
    "plt.plot(row_nums, [c*1000 for c in check_list], label = \"check\")\n",
    "plt.plot(row_nums, [t*1000 for t in trigger_list], label = \"trigger\")\n",
    "plt.xticks(row_nums, ['100', '1000', '10000', '100000'])\n",
    "plt.xlabel('number of rows')\n",
    "plt.ylabel('delta t (ms)')\n",
    "plt.legend()\n",
    "plt.show()"
   ]
  },
  {
   "cell_type": "code",
   "execution_count": null,
   "metadata": {},
   "outputs": [],
   "source": []
  }
 ],
 "metadata": {
  "kernelspec": {
   "display_name": "Python 3 (ipykernel)",
   "language": "python",
   "name": "python3"
  },
  "language_info": {
   "codemirror_mode": {
    "name": "ipython",
    "version": 3
   },
   "file_extension": ".py",
   "mimetype": "text/x-python",
   "name": "python",
   "nbconvert_exporter": "python",
   "pygments_lexer": "ipython3",
   "version": "3.8.1"
  },
  "pycharm": {
   "stem_cell": {
    "cell_type": "raw",
    "source": [],
    "metadata": {
     "collapsed": false
    }
   }
  }
 },
 "nbformat": 4,
 "nbformat_minor": 4
}