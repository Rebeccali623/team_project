{
 "cells": [
  {
   "cell_type": "code",
   "execution_count": 1,
   "metadata": {},
   "outputs": [],
   "source": [
    "from random import randrange\n",
    "from datetime import timedelta, datetime"
   ]
  },
  {
   "cell_type": "code",
   "execution_count": 2,
   "metadata": {},
   "outputs": [],
   "source": [
    "def random_date(start, end):\n",
    "    \"\"\"\n",
    "    This function will return a random datetime between two datetime \n",
    "    objects.\n",
    "    \"\"\"\n",
    "    delta = end - start\n",
    "    random_days = randrange(delta.days)\n",
    "    return start + timedelta(days=random_days)"
   ]
  },
  {
   "cell_type": "code",
   "execution_count": 3,
   "metadata": {},
   "outputs": [],
   "source": [
    "d1 = datetime.strptime('1/2/1900', '%m/%d/%Y')\n",
    "d2 = datetime.strptime('1/1/2005', '%m/%d/%Y')\n",
    "d3 = datetime.strptime('1/1/2023', '%m/%d/%Y')\n",
    "first_name_list = ['James', 'Robert', 'John', 'Michael', 'David', 'Mary', 'Patricia', 'Jennifer', 'Linda', 'Elizabeth']\n",
    "last_name_list = ['Smith', 'Johnson', 'Williams', 'Brown', 'Jones']\n",
    "def random_employee_info():\n",
    "    first_name = first_name_list[randrange(10)]\n",
    "    last_name = last_name_list[randrange(5)]\n",
    "    birth_date = random_date(d1, d2)\n",
    "    join_date = random_date(birth_date+ timedelta(days=1), d3)\n",
    "    birth_date = str(birth_date.year) + '-' + str(birth_date.month) + '-' + str(birth_date.day)\n",
    "    join_date = str(join_date.year) + '-' + str(join_date.month) + '-' + str(join_date.day)\n",
    "    salary = randrange(1,5000)\n",
    "    return [first_name, last_name, birth_date, join_date, salary]"
   ]
  },
  {
   "cell_type": "code",
   "execution_count": 4,
   "metadata": {},
   "outputs": [],
   "source": [
    "def generate_query(file_name, row_num):\n",
    "    with open(file_name, 'w') as file:\n",
    "        for i in range(row_num):\n",
    "            emp_info = random_employee_info()\n",
    "            emp_str = f'''INSERT INTO employees (first_name, last_name, birth_date, joined_date, salary) VALUES ('{emp_info[0]}', '{emp_info[1]}', '{emp_info[2]}', '{emp_info[3]}', '{emp_info[4]}');\\n\\n'''\n",
    "            file.write(emp_str)\n",
    "    file.close()"
   ]
  },
  {
   "cell_type": "code",
   "execution_count": 5,
   "metadata": {},
   "outputs": [],
   "source": [
    "generate_query('query2.sql', 100)\n",
    "generate_query('query3.sql', 1000)\n",
    "generate_query('query4.sql', 10000)\n",
    "generate_query('query5.sql', 100000)"
   ]
  },
  {
   "cell_type": "code",
   "execution_count": null,
   "metadata": {},
   "outputs": [],
   "source": []
  }
 ],
 "metadata": {
  "kernelspec": {
   "display_name": "Python 3 (ipykernel)",
   "language": "python",
   "name": "python3"
  },
  "language_info": {
   "codemirror_mode": {
    "name": "ipython",
    "version": 3
   },
   "file_extension": ".py",
   "mimetype": "text/x-python",
   "name": "python",
   "nbconvert_exporter": "python",
   "pygments_lexer": "ipython3",
   "version": "3.8.1"
  }
 },
 "nbformat": 4,
 "nbformat_minor": 4
}
