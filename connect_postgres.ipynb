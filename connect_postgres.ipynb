{
 "cells": [
  {
   "cell_type": "code",
   "execution_count": 1,
   "id": "f4fe5651",
   "metadata": {},
   "outputs": [],
   "source": [
    "import psycopg2"
   ]
  },
  {
   "cell_type": "code",
   "execution_count": 12,
   "id": "1d3d03ec",
   "metadata": {},
   "outputs": [
    {
     "name": "stdout",
     "output_type": "stream",
     "text": [
      "Connecting to the PostgreSQL database...\n",
      "PostgreSQL database version:\n",
      "('PostgreSQL 15.2 (Ubuntu 15.2-1.pgdg20.04+1) on x86_64-pc-linux-gnu, compiled by gcc (Ubuntu 9.4.0-1ubuntu1~20.04.1) 9.4.0, 64-bit',)\n",
      "command:  DROP TABLE IF EXISTS employees\n",
      "command:  \n",
      "CREATE TABLE employees (\n",
      "\tid SERIAL PRIMARY KEY,\n",
      "\tfirst_name VARCHAR (50),\n",
      "\tlast_name VARCHAR (50),\n",
      "\tbirth_date DATE CHECK (birth_date > '1900-01-01'),\n",
      "\tjoined_date DATE CHECK (joined_date > birth_date),\n",
      "\tsalary numeric CHECK (salary > 0)\n",
      ")\n",
      "Database connection closed.\n"
     ]
    }
   ],
   "source": [
    "def connect():\n",
    "    \n",
    "    def executeScriptsFromFile(filename):\n",
    "        # Open and read the file as a single buffer\n",
    "        fd = open(filename, 'r')\n",
    "        sqlFile = fd.read()\n",
    "        fd.close()\n",
    "\n",
    "        # all SQL commands (split on ';')\n",
    "        sqlCommands = sqlFile.split(';')\n",
    "        # Remove last element which is empty\n",
    "        sqlCommands.pop(-1) \n",
    "        \n",
    "        # Execute every command from the input file\n",
    "        for command in sqlCommands:\n",
    "            # This will skip and report errors\n",
    "            # For example, if the tables do not yet exist, this will skip over\n",
    "            # the DROP TABLE commands\n",
    "            try:\n",
    "                print(\"command: \", command)\n",
    "                cur.execute(command)\n",
    "            except (Exception, psycopg2.DatabaseError) as error:\n",
    "                print(error)\n",
    "\n",
    "    \"\"\" Connect to the PostgreSQL database server \"\"\"\n",
    "    conn = None\n",
    "    try:\n",
    "        # connect to the PostgreSQL server\n",
    "        print('Connecting to the PostgreSQL database...')\n",
    "        conn = psycopg2.connect(\n",
    "            host=\"localhost\",\n",
    "            database=\"cs5421\",\n",
    "            user=\"postgres\",\n",
    "            password=\"common2021\")# Change the database name & credentials accordingly!\n",
    "\n",
    "        # create a cursor\n",
    "        cur = conn.cursor()\n",
    "        \n",
    "        # execute a statement\n",
    "        print('PostgreSQL database version:')\n",
    "        cur.execute('SELECT version()')\n",
    "\n",
    "        # display the PostgreSQL database server version\n",
    "        db_version = cur.fetchone()\n",
    "        print(db_version)\n",
    "       \n",
    "        # execute commands from the .sql file\n",
    "        executeScriptsFromFile(\"create_table.sql\")\n",
    "        \n",
    "        # close the communication with the PostgreSQL\n",
    "        cur.close()\n",
    "        \n",
    "        # commit the changes\n",
    "        conn.commit()\n",
    "        \n",
    "    except (Exception, psycopg2.DatabaseError) as error:\n",
    "        print(error)\n",
    "    finally:\n",
    "        if conn is not None:\n",
    "            conn.close()\n",
    "            print('Database connection closed.')\n",
    "\n",
    "\n",
    "if __name__ == '__main__':\n",
    "    connect()\n",
    "    \n"
   ]
  },
  {
   "cell_type": "code",
   "execution_count": null,
   "id": "d724a857",
   "metadata": {},
   "outputs": [],
   "source": []
  }
 ],
 "metadata": {
  "kernelspec": {
   "display_name": "Python 3 (ipykernel)",
   "language": "python",
   "name": "python3"
  },
  "language_info": {
   "codemirror_mode": {
    "name": "ipython",
    "version": 3
   },
   "file_extension": ".py",
   "mimetype": "text/x-python",
   "name": "python",
   "nbconvert_exporter": "python",
   "pygments_lexer": "ipython3",
   "version": "3.8.10"
  }
 },
 "nbformat": 4,
 "nbformat_minor": 5
}
